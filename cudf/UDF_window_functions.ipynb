{
 "cells": [
  {
   "cell_type": "code",
   "execution_count": 32,
   "metadata": {},
   "outputs": [],
   "source": [
    "import cudf\n",
    "import numpy as np\n",
    "from numba import cuda\n",
    "import time"
   ]
  },
  {
   "cell_type": "code",
   "execution_count": 33,
   "metadata": {},
   "outputs": [],
   "source": [
    "data_length = int(1e8)\n",
    "average_window = 4\n",
    "threads_per_block = 128\n",
    "trunk_size = 10240"
   ]
  },
  {
   "cell_type": "code",
   "execution_count": 34,
   "metadata": {},
   "outputs": [],
   "source": [
    "df = cudf.DataFrame()\n",
    "df['in1'] = np.arange(data_length, dtype=np.float64)"
   ]
  },
  {
   "cell_type": "code",
   "execution_count": 35,
   "metadata": {},
   "outputs": [],
   "source": [
    "def moving_average_kernel(in1, out, average_length):\n",
    "    # Set the first average_length-1 rows in each chunk to np.nan\n",
    "    # since there's not enough history.\n",
    "    for i in range(cuda.threadIdx.x, average_length-1, cuda.blockDim.x):\n",
    "        out[i] = np.nan\n",
    "    \n",
    "    # For all other rows, compute the average of the preceding\n",
    "    # average_length rows (inclusive)\n",
    "    for i in range(cuda.threadIdx.x + average_length - 1, in1.size, cuda.blockDim.x):\n",
    "        summ = 0.0\n",
    "        \n",
    "        for j in range(i - average_length + 1, i + 1):\n",
    "            summ += in1[j]\n",
    "        \n",
    "        out[i] = summ / np.float64(average_length)\n",
    "\n",
    "def fill_missing_average_kernel(in1, out, average_length):\n",
    "    # Safeguard to make sure we're not accessing outside the subarray boundary.\n",
    "    # Prevents the average for being calculated where there isn't enough history.\n",
    "    if in1.size - average_length + cuda.threadIdx.x - average_length + 1 < 0:\n",
    "        return\n",
    "    \n",
    "    # Calculate the moving average for the average_length-1 rows with np.nan values\n",
    "    # at the end of each shifted chunk that need an actual value.\n",
    "    for i in range(in1.size - average_length + cuda.threadIdx.x,\n",
    "                   in1.size, cuda.blockDim.x):\n",
    "        \n",
    "        summ = 0.0\n",
    "        \n",
    "        for j in range(i - average_length + 1,\n",
    "                       i + 1):\n",
    "            summ += in1[j]\n",
    "        \n",
    "        out[i] = summ / np.float64(average_length)"
   ]
  },
  {
   "cell_type": "code",
   "execution_count": 36,
   "metadata": {},
   "outputs": [
    {
     "name": "stdout",
     "output_type": "stream",
     "text": [
      "cuDF time 0.6082448959350586\n"
     ]
    }
   ],
   "source": [
    "start = time.time()\n",
    "df = df.apply_chunks(moving_average_kernel,\n",
    "                     incols=['in1'],\n",
    "                     outcols=dict(out=np.float64),\n",
    "                     kwargs=dict(average_length=average_window),\n",
    "                     chunks=list(range(0, data_length,\n",
    "                                       trunk_size))+ [data_length],\n",
    "                     tpb=threads_per_block)\n",
    "\n",
    "df = df.apply_chunks(fill_missing_average_kernel,\n",
    "                     incols=['in1', 'out'],\n",
    "                     outcols=dict(),\n",
    "                     kwargs=dict(average_length=average_window),\n",
    "                     chunks=[0]+list(range(average_window, data_length,\n",
    "                                           trunk_size))+ [data_length],\n",
    "                     tpb=threads_per_block)\n",
    "end = time.time()\n",
    "print('cuDF time', end-start)"
   ]
  },
  {
   "cell_type": "code",
   "execution_count": 37,
   "metadata": {},
   "outputs": [
    {
     "name": "stdout",
     "output_type": "stream",
     "text": [
      "    in1  out\n",
      " 0  0.0     \n",
      " 1  1.0     \n",
      " 2  2.0     \n",
      " 3  3.0  1.5\n",
      " 4  4.0  2.5\n",
      " 5  5.0  3.5\n",
      " 6  6.0  4.5\n",
      " 7  7.0  5.5\n",
      " 8  8.0  6.5\n",
      " 9  9.0  7.5\n"
     ]
    }
   ],
   "source": [
    "print(df.head(10))"
   ]
  }
 ],
 "metadata": {
  "kernelspec": {
   "display_name": "Python 3",
   "language": "python",
   "name": "python3"
  },
  "language_info": {
   "codemirror_mode": {
    "name": "ipython",
    "version": 3
   },
   "file_extension": ".py",
   "mimetype": "text/x-python",
   "name": "python",
   "nbconvert_exporter": "python",
   "pygments_lexer": "ipython3",
   "version": "3.6.6"
  }
 },
 "nbformat": 4,
 "nbformat_minor": 2
}
