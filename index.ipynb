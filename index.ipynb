{
 "cells": [
  {
   "cell_type": "markdown",
   "metadata": {},
   "source": [
    "# SciPy 2019 Tutorial: RAPIDS: Open GPU Data Science\n",
    "### 07/09/2019 8:00-12:00\n",
    "\n",
    "```\n",
    "Nick Becker, NVIDIA\n",
    "Keith Kraus, NVIDIA\n",
    "Dante Gama Dessavre, NVIDIA\n",
    "Anthony Scopatz, Quansight, LLC\n",
    "Aaron Meurer, Quansight, LLC\n",
    "```"
   ]
  },
  {
   "cell_type": "markdown",
   "metadata": {},
   "source": [
    "This tutorial will cover the basics of Python data science on a GPU, starting from DataFrames, a discussion of parallelism using Dask, and ending with machine learning."
   ]
  },
  {
   "cell_type": "markdown",
   "metadata": {},
   "source": [
    "* [Introduction & Setup](./intro/01_Introduction_to_RAPIDS.ipynb) (35 min)\n",
    "  * Provide students with container access (10 min)\n",
    "  * Execute sanity check notebook (5 min)\n",
    "  * GPU Concepts notebook (15 min)\n",
    "    * Exercises in notebook (5 min)\n",
    "  * Student Questions (5 min)\n",
    "\n"
   ]
  },
  {
   "cell_type": "markdown",
   "metadata": {},
   "source": [
    "* cuDF (1 hr)\n",
    "  * [Intro to cuDF notebook](./cudf/Intro%20to%20cuDF.ipynb) (20 min)\n",
    "    * Exercises in notebook (10 min)\n",
    "  * [cuDF User Defined Functions notebook](./cudf/cuDF%20UDF.ipynb) (20 min)\n",
    "    * Exercises in notebook (10 min)\n",
    "  * case study notebooks..."
   ]
  },
  {
   "cell_type": "markdown",
   "metadata": {},
   "source": [
    "* Break (15 min.)"
   ]
  },
  {
   "cell_type": "markdown",
   "metadata": {},
   "source": [
    "* cuGraph (1 hr)\n",
    "  * [Intro to cuGraph notebook](./cugraph/Intro%20to%20cuGraph.ipynb) (20 min)\n",
    "    * Exercises in notebook (10 min)\n",
    "  * case study notebooks..."
   ]
  },
  {
   "cell_type": "markdown",
   "metadata": {},
   "source": [
    "* Break (15 min.)"
   ]
  },
  {
   "cell_type": "markdown",
   "metadata": {},
   "source": [
    "* cuML (1 hr)\n",
    "  * [Intro to cuML and SciKit Learn notebook](./cuml/Intro-to-cuml-and-linear-regression.ipynb) (20 min)\n",
    "    * Exercises in notebook (10 min)\n",
    "  * [Linear regression](./cuml/linear_regression_demo.ipynb)\n",
    "  * [PCA](./cuml/pca_demo.ipynb)\n",
    "  * [UMAP](./cuml/umap_demo_graphed.ipynb)\n",
    "  * case study notebooks..."
   ]
  }
 ],
 "metadata": {
  "kernelspec": {
   "display_name": "Python 3",
   "language": "python",
   "name": "python3"
  },
  "language_info": {
   "codemirror_mode": {
    "name": "ipython",
    "version": 3
   },
   "file_extension": ".py",
   "mimetype": "text/x-python",
   "name": "python",
   "nbconvert_exporter": "python",
   "pygments_lexer": "ipython3",
   "version": "3.7.3"
  }
 },
 "nbformat": 4,
 "nbformat_minor": 2
}
