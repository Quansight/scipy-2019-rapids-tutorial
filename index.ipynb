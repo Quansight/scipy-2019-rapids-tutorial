{
 "cells": [
  {
   "cell_type": "markdown",
   "metadata": {},
   "source": [
    "# SciPy 2019 Tutorial: RAPIDS: Open GPU Data Science\n",
    "### 07/09/2019 8:00-12:00\n",
    "\n",
    "```\n",
    "Nick Becker, NVIDIA\n",
    "Keith Kraus, NVIDIA\n",
    "Dante Gama Dessavre, NVIDIA\n",
    "Anthony Scopatz, Quansight, LLC\n",
    "Aaron Meurer, Quansight, LLC\n",
    "```"
   ]
  },
  {
   "cell_type": "markdown",
   "metadata": {},
   "source": [
    "This tutorial will cover the basics of Python data science on a GPU, starting from DataFrames, a discussion of parallelism using Dask, and ending with machine learning."
   ]
  },
  {
   "cell_type": "markdown",
   "metadata": {},
   "source": [
    "* Introduction & Setup (35 min)\n",
    "  * Provide students with container access (10 min)\n",
    "  * Execute sanity check notebook (5 min)\n",
    "  * GPU Concepts notebook (15 min)\n",
    "    * Exercises in notebook (5 min)\n",
    "  * Student Questions (5 min)\n",
    "\n"
   ]
  },
  {
   "cell_type": "markdown",
   "metadata": {},
   "source": [
    "**NOTES**\n",
    "\n",
    "1. *[This](https://github.com/rapidsai/notebooks-extended/blob/master/beginner/tutorial/01_Introduction_to_RAPIDS.ipynb) looks like a good notebook for intro to RAPIDS. I would add some basic timing comparisons to show the performance difference between pandas, etc.*"
   ]
  },
  {
   "cell_type": "markdown",
   "metadata": {},
   "source": [
    "* cuDF (1 hr)\n",
    "  * Intro to cuDF notebook (20 min)\n",
    "    * Exercises in notebook (10 min)\n",
    "  * case study notebooks..."
   ]
  },
  {
   "cell_type": "markdown",
   "metadata": {},
   "source": [
    "**NOTES**\n",
    "\n",
    "1. *[10 min to cuDF](https://rapidsai.github.io/projects/cudf/en/latest/10min.html) is a good intro to cuDF. It doesn't show any kernel functions though (apply_rows).*\n",
    "2. *[Getting Started with cuDF](https://github.com/rapidsai/notebooks-extended/blob/master/beginner/basics/Getting_Started_with_cuDF.ipynb). Uses a real dataset, but also doesn't show kernel functions.\n",
    "2. I was not able to find any other existing notebooks that use cuDF. -Aaron"
   ]
  },
  {
   "cell_type": "markdown",
   "metadata": {},
   "source": [
    "* Break (15 min.)"
   ]
  },
  {
   "cell_type": "markdown",
   "metadata": {},
   "source": [
    "* cuGraph (1 hr)\n",
    "  * Intro to cuGraph notebook (20 min)\n",
    "    * Exercises in notebook (10 min)\n",
    "  * case study notebooks..."
   ]
  },
  {
   "cell_type": "markdown",
   "metadata": {},
   "source": [
    "* Break (15 min.)"
   ]
  },
  {
   "cell_type": "markdown",
   "metadata": {},
   "source": [
    "* cuML (1 hr)\n",
    "  * Intro to cuML and SciKit Learn notebook (20 min)\n",
    "    * Exercises in notebook (10 min)\n",
    "  * case study notebooks..."
   ]
  },
  {
   "cell_type": "code",
   "execution_count": null,
   "metadata": {},
   "outputs": [],
   "source": []
  }
 ],
 "metadata": {
  "kernelspec": {
   "display_name": "Python 3",
   "language": "python",
   "name": "python3"
  },
  "language_info": {
   "codemirror_mode": {
    "name": "ipython",
    "version": 3
   },
   "file_extension": ".py",
   "mimetype": "text/x-python",
   "name": "python",
   "nbconvert_exporter": "python",
   "pygments_lexer": "ipython3",
   "version": "3.7.3"
  }
 },
 "nbformat": 4,
 "nbformat_minor": 2
}
