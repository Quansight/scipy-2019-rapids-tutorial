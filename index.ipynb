{
 "cells": [
  {
   "cell_type": "markdown",
   "metadata": {},
   "source": [
    "# SciPy 2019 Tutorial: RAPIDS: Open GPU Data Science\n",
    "### 07/09/2019 8:00-12:00\n",
    "\n",
    "```\n",
    "Nick Becker, NVIDIA\n",
    "Keith Kraus, NVIDIA\n",
    "Dante Gama Dessavre, NVIDIA\n",
    "Anthony Scopatz, Quansight, LLC\n",
    "Aaron Meurer, Quansight, LLC\n",
    "```"
   ]
  },
  {
   "cell_type": "markdown",
   "metadata": {},
   "source": [
    "This tutorial will cover the basics of Python data science on a GPU, starting from DataFrames, a discussion of parallelism using Dask, and ending with machine learning."
   ]
  },
  {
   "cell_type": "markdown",
   "metadata": {},
   "source": [
    "* Introduction & Setup (35 min)\n",
    "  * Provide students with container access (10 min)\n",
    "  * Execute sanity check notebook (5 min)\n",
    "  * GPU Concepts notebook (15 min)\n",
    "    * Exercises in notebook (5 min)\n",
    "  * Student Questions (5 min)\n",
    "\n"
   ]
  },
  {
   "cell_type": "markdown",
   "metadata": {},
   "source": [
    "**NOTES**\n",
    "\n",
    "1. *[This](https://github.com/rapidsai/notebooks-extended/blob/master/beginner/tutorial/01_Introduction_to_RAPIDS.ipynb) looks like a good notebook for intro to RAPIDS. I would add some basic timing comparisons to show the performance difference between pandas, etc.*"
   ]
  },
  {
   "cell_type": "markdown",
   "metadata": {},
   "source": [
    "* cuDF (1 hr)\n",
    "  * [Intro to cuDF notebook](./cudf/Intro%20to%20cuDF.ipynb) (20 min)\n",
    "    * Exercises in notebook (10 min)\n",
    "  * case study notebooks..."
   ]
  },
  {
   "cell_type": "markdown",
   "metadata": {},
   "source": []
  },
  {
   "cell_type": "markdown",
   "metadata": {},
   "source": [
    "* Break (15 min.)"
   ]
  },
  {
   "cell_type": "markdown",
   "metadata": {},
   "source": [
    "* cuGraph (1 hr)\n",
    "  * [Intro to cuGraph notebook](./cugraph/Intro%20to%20cuGraph.ipynb) (20 min)\n",
    "    * Exercises in notebook (10 min)\n",
    "  * case study notebooks..."
   ]
  },
  {
   "cell_type": "markdown",
   "metadata": {},
   "source": [
    "**NOTES**\n",
    "\n",
    "1. An intro notebook (showing how to make a graph, basic manipulation methods) doesn't yet exist.\n",
    "2. What dataset(s) should we use? Is it better to use a small graph that can easily be visualized or a large one to show off the GPU? Both?\n",
    "3. We can combine the cugraph notebooks in the [notebooks repo](https://github.com/rapidsai/notebooks/tree/branch-0.8/cugraph) into a single notebook, which shows all the graph algorithms. Or should we restrict to only certain algorithms? It may take time to explain each algorithm."
   ]
  },
  {
   "cell_type": "markdown",
   "metadata": {},
   "source": [
    "* Break (15 min.)"
   ]
  },
  {
   "cell_type": "markdown",
   "metadata": {},
   "source": [
    "* cuML (1 hr)\n",
    "  * Intro to cuML and SciKit Learn notebook (20 min)\n",
    "    * Exercises in notebook (10 min)\n",
    "  * case study notebooks..."
   ]
  },
  {
   "cell_type": "markdown",
   "metadata": {},
   "source": [
    "**Notes**\n",
    "\n",
    "1. There are several algorithms we can show. I would suggest linear regression, PCA, and UMAP. \n"
   ]
  },
  {
   "cell_type": "code",
   "execution_count": null,
   "metadata": {},
   "outputs": [],
   "source": []
  }
 ],
 "metadata": {
  "kernelspec": {
   "display_name": "Python 3",
   "language": "python",
   "name": "python3"
  },
  "language_info": {
   "codemirror_mode": {
    "name": "ipython",
    "version": 3
   },
   "file_extension": ".py",
   "mimetype": "text/x-python",
   "name": "python",
   "nbconvert_exporter": "python",
   "pygments_lexer": "ipython3",
   "version": "3.7.3"
  }
 },
 "nbformat": 4,
 "nbformat_minor": 2
}
