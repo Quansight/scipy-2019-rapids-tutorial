{
 "cells": [
  {
   "cell_type": "markdown",
   "metadata": {},
   "source": [
    "# Weighted Jaccard Similarity\n",
    "\n",
    "In this notebook, we will use cuGraph to compute the Weighted Jaccard Similarity metric on our training dataset. \n",
    "\n",
    "\n",
    "Notebook Credits\n",
    "* Original Authors: Bradley Rees and James Wyles\n",
    "* Last Edit: 04/30/2019\n",
    "\n",
    "RAPIDS Versions: 0.7.0  \n",
    "\n",
    "\n",
    "Test Hardware\n",
    "* GP100 32G, CUDA 9,2\n",
    "\n",
    "\n",
    "## Introduction\n",
    "Weighted Jaccard is similar to the Jaccard Similarity but takes into account vertex weights placed.  \n",
    "\n",
    "\n",
    "given:\n",
    "The neighbors of a vertex, v, is defined as the set, U, of vertices connected by way of an edge to vertex v, or N(v) = {U} where v ∈V and ∀ u∈U ∃ edge(v,u)∈E.\n",
    "and\n",
    "wt(i) is the weight on vertex i\n",
    "   \n",
    "we can now define weight summing function as<br>\n",
    "$WT(U) = \\sum_{v \\in U} {wt(v)}$\n",
    "\n",
    "$WtJaccard(i, j) = \\frac{WT(N(i) \\cap N(j))}{WT(N(i) \\cup N(j))}$\n",
    "\n",
    "\n",
    "To compute the weighted Jaccard similarity between each pair of vertices connected by an edge in cuGraph use:<br>\n",
    "\n",
    "**jaccard_w(input_graph, vect_weights_ptr)**\n",
    "\n",
    "Input\n",
    "* input_graph: A cugraph.Graph object\n",
    "* vect_weights_ptr: An array of vertex weights\n",
    "\n",
    "Returns: \n",
    "* __df__: cudf.DataFrame with three columns:\n",
    "    * df['source']: The source vertex id.\n",
    "    * df['destination']: The destination vertex id.\n",
    "    * df['jaccard_coeff']: The weighted jaccard coefficient computed between the source and destination vertex.\n",
    "        \n",
    "<br><br>   \n",
    "\n",
    "\n",
    "__Note:__ For this example we will be using PageRank as the edge weights.  Please review the PageRank notebook if you have any questions about running PageRank\n",
    "\n",
    "\n",
    "    \n",
    "## cuGraph 0.7 Notice \n",
    "cuGraph version 0.7 has some limitations:\n",
    "* Only Int32 Vertex ID are supported\n",
    "* Only float (FP32) edge data is supported\n",
    "* Vertex numbering is assumed to start at zero\n",
    "\n",
    "These limitations are being addressed and will be fixed future versions.  \n",
    "These example notebooks will illustrate how to manipulate the data so that it comforms to the current limitations "
   ]
  },
  {
   "cell_type": "markdown",
   "metadata": {},
   "source": [
    "### Test Data\n",
    "We will be using the Zachary Karate club dataset \n",
    "*W. W. Zachary, An information flow model for conflict and fission in small groups, Journal of\n",
    "Anthropological Research 33, 452-473 (1977).*\n",
    "\n",
    "\n",
    "![Karate Club](./img/zachary_black_lines.png)\n",
    "\n",
    "This is a small graph which allows for easy visual inspection to validate results.  "
   ]
  },
  {
   "cell_type": "code",
   "execution_count": null,
   "metadata": {},
   "outputs": [],
   "source": [
    "# Import needed libraries\n",
    "import cugraph\n",
    "import cudf\n",
    "from collections import OrderedDict"
   ]
  },
  {
   "cell_type": "markdown",
   "metadata": {},
   "source": [
    "## Read the data using cuDF"
   ]
  },
  {
   "cell_type": "code",
   "execution_count": null,
   "metadata": {},
   "outputs": [],
   "source": [
    "# Test file   \n",
    "datafile='./data/karate-data.csv'\n",
    "\n",
    "# Read the data file\n",
    "cols = [\"src\", \"dst\"]\n",
    "\n",
    "dtypes = OrderedDict([\n",
    "        (\"src\", \"int32\"), \n",
    "        (\"dst\", \"int32\")\n",
    "        ])\n",
    "\n",
    "gdf = cudf.read_csv(datafile, names=cols, delimiter='\\t', dtype=list(dtypes.values()) )"
   ]
  },
  {
   "cell_type": "code",
   "execution_count": null,
   "metadata": {},
   "outputs": [],
   "source": [
    "# create a Graph \n",
    "G = cugraph.Graph()\n",
    "G.add_edge_list(gdf[\"src\"], gdf[\"dst\"])"
   ]
  },
  {
   "cell_type": "markdown",
   "metadata": {},
   "source": [
    "### Compute PageRank to use as the vertex weights"
   ]
  },
  {
   "cell_type": "code",
   "execution_count": null,
   "metadata": {},
   "outputs": [],
   "source": [
    "# Call Pagerank on the graph to get weights to use:\n",
    "pr_df = cugraph.pagerank(G)"
   ]
  },
  {
   "cell_type": "code",
   "execution_count": null,
   "metadata": {},
   "outputs": [],
   "source": [
    "pr_df.head().to_pandas()"
   ]
  },
  {
   "cell_type": "markdown",
   "metadata": {},
   "source": [
    "### Now compute the Weighted Jaccard "
   ]
  },
  {
   "cell_type": "code",
   "execution_count": null,
   "metadata": {},
   "outputs": [],
   "source": [
    "# Call weighted Jaccard using the Pagerank scores as weights:\n",
    "df = cugraph.jaccard_w(G, pr_df['pagerank'])"
   ]
  },
  {
   "cell_type": "markdown",
   "metadata": {},
   "source": [
    "Find the most similar pair of vertices"
   ]
  },
  {
   "cell_type": "code",
   "execution_count": null,
   "metadata": {},
   "outputs": [],
   "source": [
    "bestEdge = 0\n",
    "for i in range(len(df)):\n",
    "    if df['jaccard_coeff'][i] > df['jaccard_coeff'][bestEdge]:\n",
    "        bestEdge = i\n",
    "        \n",
    "print(\"Vertices \" + str(df['source'][bestEdge]) + \n",
    "      \" and \" + str(df['destination'][bestEdge] ) + \n",
    "      \" are most similar with score: \" + str(df['jaccard_coeff'][bestEdge]))"
   ]
  },
  {
   "cell_type": "markdown",
   "metadata": {},
   "source": [
    "## It is that easy with cuGraph!"
   ]
  },
  {
   "cell_type": "markdown",
   "metadata": {},
   "source": [
    "___\n",
    "Copyright (c) 2019, NVIDIA CORPORATION.\n",
    "\n",
    "Licensed under the Apache License, Version 2.0 (the \"License\");  you may not use this file except in compliance with the License. You may obtain a copy of the License at http://www.apache.org/licenses/LICENSE-2.0\n",
    "\n",
    "Unless required by applicable law or agreed to in writing, software distributed under the License is distributed on an \"AS IS\" BASIS, WITHOUT WARRANTIES OR CONDITIONS OF ANY KIND, either express or implied. See the License for the specific language governing permissions and limitations under the License.\n",
    "___"
   ]
  }
 ],
 "metadata": {
  "kernelspec": {
   "display_name": "Python 3",
   "language": "python",
   "name": "python3"
  },
  "language_info": {
   "codemirror_mode": {
    "name": "ipython",
    "version": 3
   },
   "file_extension": ".py",
   "mimetype": "text/x-python",
   "name": "python",
   "nbconvert_exporter": "python",
   "pygments_lexer": "ipython3",
   "version": "3.7.3"
  }
 },
 "nbformat": 4,
 "nbformat_minor": 2
}
